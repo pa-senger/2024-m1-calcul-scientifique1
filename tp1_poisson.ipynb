{
 "cells": [
  {
   "cell_type": "code",
   "execution_count": 8,
   "metadata": {},
   "outputs": [
    {
     "data": {
      "text/plain": [
       "TridiagLU"
      ]
     },
     "metadata": {},
     "output_type": "display_data"
    }
   ],
   "source": [
    "\"Factorisation LU pour une matrice tridiagonale\"\n",
    "struct TridiagLU\n",
    "  lower :: Vector{Float64}\n",
    "  diag :: Vector{Float64}\n",
    "  upper :: Vector{Float64}\n",
    "end"
   ]
  },
  {
   "cell_type": "code",
   "execution_count": 16,
   "metadata": {},
   "outputs": [
    {
     "data": {
      "text/plain": [
       "Base.size"
      ]
     },
     "metadata": {},
     "output_type": "display_data"
    }
   ],
   "source": [
    "\"Initialisation de la mémoire pour une factorisation n×n\"\n",
    "TridiagLU(n::Int64) = TridiagLU(zeros(n-1), zeros(n), zeros(n-1))\n",
    "\"Dimensions de la matrice représent\"\n",
    "Base.size(A::TridiagLU) = (length(A.diag), length(A.diag))"
   ]
  },
  {
   "cell_type": "code",
   "execution_count": 17,
   "metadata": {},
   "outputs": [
    {
     "data": {
      "text/plain": [
       "factorize! (generic function with 1 method)"
      ]
     },
     "metadata": {},
     "output_type": "display_data"
    }
   ],
   "source": [
    "function factorize!(LU::TridiagLU, A::Matrix)\n",
    "  n = size(A, 1)\n",
    "  lower, diag, upper = zeros(n-1), zeros(n), zeros(n-1)\n",
    "  LU.diag[1] = A[1, 1]\n",
    "  for i in 2:n\n",
    "    LU.lower[i-1] = A[i, i-1] / LU.diag[i-1]\n",
    "    LU.upper[i-1] = A[i-1, i]\n",
    "    LU.diag[i] = A[i, i] - LU.lower[i-1] * LU.upper[i-1]\n",
    "  end\n",
    "  return LU\n",
    " end"
   ]
  },
  {
   "cell_type": "code",
   "execution_count": 18,
   "metadata": {},
   "outputs": [
    {
     "data": {
      "text/plain": [
       "3-element Vector{Float64}:\n",
       " -0.5\n",
       " -0.6666666666666666\n",
       " -0.7499999999999999"
      ]
     },
     "metadata": {},
     "output_type": "display_data"
    },
    {
     "data": {
      "text/plain": [
       "4-element Vector{Float64}:\n",
       " 2.0\n",
       " 1.5\n",
       " 1.3333333333333335\n",
       " 1.25"
      ]
     },
     "metadata": {},
     "output_type": "display_data"
    },
    {
     "data": {
      "text/plain": [
       "3-element Vector{Float64}:\n",
       " -1.0\n",
       " -1.0\n",
       " -1.0"
      ]
     },
     "metadata": {},
     "output_type": "display_data"
    }
   ],
   "source": [
    "A = Float64[2 -1 0 0;\n",
    "            -1 2 -1 0;\n",
    "            0 -1 2 -1;\n",
    "            0 0 -1 2 ]\n",
    "\n",
    "LU = TridiagLU(4)\n",
    "factorize!(LU, A)\n",
    "display(LU.lower)\n",
    "display(LU.diag)\n",
    "display(LU.upper)"
   ]
  },
  {
   "cell_type": "code",
   "execution_count": 19,
   "metadata": {},
   "outputs": [
    {
     "data": {
      "text/plain": [
       "TridiagLU"
      ]
     },
     "metadata": {},
     "output_type": "display_data"
    }
   ],
   "source": [
    "function TridiagLU(A::Matrix)\n",
    "  LU = TridiagLU(size(A, 1)) # on initialise la mémoire\n",
    "  factorize!(LU, A) # on effectue la factorisation\n",
    " end"
   ]
  }
 ],
 "metadata": {
  "kernelspec": {
   "display_name": "Julia 1.9.3",
   "language": "julia",
   "name": "julia-1.9"
  },
  "language_info": {
   "file_extension": ".jl",
   "mimetype": "application/julia",
   "name": "julia",
   "version": "1.9.3"
  },
  "orig_nbformat": 4
 },
 "nbformat": 4,
 "nbformat_minor": 2
}
